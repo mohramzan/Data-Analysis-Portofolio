{
 "cells": [
  {
   "cell_type": "markdown",
   "metadata": {},
   "source": [
    "Abstract :- Predict whether income exceeds $50K/yr based on census data. Also known as \"Census Income\" dataset.\n",
    "Source:- https://archive.ics.uci.edu/ml/datasets/adult\n",
    "Associated Task :- Classification, Prediction task is to determine whether a person makes over 50K a year.\n",
    "This dataset has multivariate(categorical and interger) characteriistics. And also has missing values.\n"
   ]
  },
  {
   "cell_type": "code",
   "execution_count": 1,
   "metadata": {},
   "outputs": [],
   "source": [
    "import numpy as np\n",
    "import pandas as pd\n",
    "import matplotlib.pyplot as plt\n",
    "import seaborn as sns\n",
    "%matplotlib inline"
   ]
  },
  {
   "cell_type": "code",
   "execution_count": 2,
   "metadata": {},
   "outputs": [],
   "source": [
    "df = pd.read_csv('data/adult.csv')"
   ]
  },
  {
   "cell_type": "code",
   "execution_count": 3,
   "metadata": {},
   "outputs": [
    {
     "data": {
      "text/plain": [
       "Index(['age', 'workclass', 'fnlwgt', 'education', 'educational-num',\n",
       "       'marital-status', 'occupation', 'relationship', 'race', 'gender',\n",
       "       'capital-gain', 'capital-loss', 'hours-per-week', 'native-country',\n",
       "       'income'],\n",
       "      dtype='object')"
      ]
     },
     "execution_count": 3,
     "metadata": {},
     "output_type": "execute_result"
    }
   ],
   "source": [
    "df.columns"
   ]
  },
  {
   "cell_type": "code",
   "execution_count": 4,
   "metadata": {},
   "outputs": [
    {
     "data": {
      "text/html": [
       "<div>\n",
       "<style scoped>\n",
       "    .dataframe tbody tr th:only-of-type {\n",
       "        vertical-align: middle;\n",
       "    }\n",
       "\n",
       "    .dataframe tbody tr th {\n",
       "        vertical-align: top;\n",
       "    }\n",
       "\n",
       "    .dataframe thead th {\n",
       "        text-align: right;\n",
       "    }\n",
       "</style>\n",
       "<table border=\"1\" class=\"dataframe\">\n",
       "  <thead>\n",
       "    <tr style=\"text-align: right;\">\n",
       "      <th></th>\n",
       "      <th>age</th>\n",
       "      <th>workclass</th>\n",
       "      <th>fnlwgt</th>\n",
       "      <th>education</th>\n",
       "      <th>educational-num</th>\n",
       "      <th>marital-status</th>\n",
       "      <th>occupation</th>\n",
       "      <th>relationship</th>\n",
       "      <th>race</th>\n",
       "      <th>gender</th>\n",
       "      <th>capital-gain</th>\n",
       "      <th>capital-loss</th>\n",
       "      <th>hours-per-week</th>\n",
       "      <th>native-country</th>\n",
       "      <th>income</th>\n",
       "    </tr>\n",
       "  </thead>\n",
       "  <tbody>\n",
       "    <tr>\n",
       "      <th>0</th>\n",
       "      <td>25</td>\n",
       "      <td>Private</td>\n",
       "      <td>226802</td>\n",
       "      <td>11th</td>\n",
       "      <td>7</td>\n",
       "      <td>Never-married</td>\n",
       "      <td>Machine-op-inspct</td>\n",
       "      <td>Own-child</td>\n",
       "      <td>Black</td>\n",
       "      <td>Male</td>\n",
       "      <td>0</td>\n",
       "      <td>0</td>\n",
       "      <td>40</td>\n",
       "      <td>United-States</td>\n",
       "      <td>&lt;=50K</td>\n",
       "    </tr>\n",
       "    <tr>\n",
       "      <th>1</th>\n",
       "      <td>38</td>\n",
       "      <td>Private</td>\n",
       "      <td>89814</td>\n",
       "      <td>HS-grad</td>\n",
       "      <td>9</td>\n",
       "      <td>Married-civ-spouse</td>\n",
       "      <td>Farming-fishing</td>\n",
       "      <td>Husband</td>\n",
       "      <td>White</td>\n",
       "      <td>Male</td>\n",
       "      <td>0</td>\n",
       "      <td>0</td>\n",
       "      <td>50</td>\n",
       "      <td>United-States</td>\n",
       "      <td>&lt;=50K</td>\n",
       "    </tr>\n",
       "    <tr>\n",
       "      <th>2</th>\n",
       "      <td>28</td>\n",
       "      <td>Local-gov</td>\n",
       "      <td>336951</td>\n",
       "      <td>Assoc-acdm</td>\n",
       "      <td>12</td>\n",
       "      <td>Married-civ-spouse</td>\n",
       "      <td>Protective-serv</td>\n",
       "      <td>Husband</td>\n",
       "      <td>White</td>\n",
       "      <td>Male</td>\n",
       "      <td>0</td>\n",
       "      <td>0</td>\n",
       "      <td>40</td>\n",
       "      <td>United-States</td>\n",
       "      <td>&gt;50K</td>\n",
       "    </tr>\n",
       "    <tr>\n",
       "      <th>3</th>\n",
       "      <td>44</td>\n",
       "      <td>Private</td>\n",
       "      <td>160323</td>\n",
       "      <td>Some-college</td>\n",
       "      <td>10</td>\n",
       "      <td>Married-civ-spouse</td>\n",
       "      <td>Machine-op-inspct</td>\n",
       "      <td>Husband</td>\n",
       "      <td>Black</td>\n",
       "      <td>Male</td>\n",
       "      <td>7688</td>\n",
       "      <td>0</td>\n",
       "      <td>40</td>\n",
       "      <td>United-States</td>\n",
       "      <td>&gt;50K</td>\n",
       "    </tr>\n",
       "    <tr>\n",
       "      <th>4</th>\n",
       "      <td>18</td>\n",
       "      <td>?</td>\n",
       "      <td>103497</td>\n",
       "      <td>Some-college</td>\n",
       "      <td>10</td>\n",
       "      <td>Never-married</td>\n",
       "      <td>?</td>\n",
       "      <td>Own-child</td>\n",
       "      <td>White</td>\n",
       "      <td>Female</td>\n",
       "      <td>0</td>\n",
       "      <td>0</td>\n",
       "      <td>30</td>\n",
       "      <td>United-States</td>\n",
       "      <td>&lt;=50K</td>\n",
       "    </tr>\n",
       "  </tbody>\n",
       "</table>\n",
       "</div>"
      ],
      "text/plain": [
       "   age  workclass  fnlwgt     education  educational-num      marital-status  \\\n",
       "0   25    Private  226802          11th                7       Never-married   \n",
       "1   38    Private   89814       HS-grad                9  Married-civ-spouse   \n",
       "2   28  Local-gov  336951    Assoc-acdm               12  Married-civ-spouse   \n",
       "3   44    Private  160323  Some-college               10  Married-civ-spouse   \n",
       "4   18          ?  103497  Some-college               10       Never-married   \n",
       "\n",
       "          occupation relationship   race  gender  capital-gain  capital-loss  \\\n",
       "0  Machine-op-inspct    Own-child  Black    Male             0             0   \n",
       "1    Farming-fishing      Husband  White    Male             0             0   \n",
       "2    Protective-serv      Husband  White    Male             0             0   \n",
       "3  Machine-op-inspct      Husband  Black    Male          7688             0   \n",
       "4                  ?    Own-child  White  Female             0             0   \n",
       "\n",
       "   hours-per-week native-country income  \n",
       "0              40  United-States  <=50K  \n",
       "1              50  United-States  <=50K  \n",
       "2              40  United-States   >50K  \n",
       "3              40  United-States   >50K  \n",
       "4              30  United-States  <=50K  "
      ]
     },
     "execution_count": 4,
     "metadata": {},
     "output_type": "execute_result"
    }
   ],
   "source": [
    "df.head()"
   ]
  },
  {
   "cell_type": "code",
   "execution_count": 5,
   "metadata": {},
   "outputs": [
    {
     "name": "stdout",
     "output_type": "stream",
     "text": [
      "<class 'pandas.core.frame.DataFrame'>\n",
      "RangeIndex: 48842 entries, 0 to 48841\n",
      "Data columns (total 15 columns):\n",
      " #   Column           Non-Null Count  Dtype \n",
      "---  ------           --------------  ----- \n",
      " 0   age              48842 non-null  int64 \n",
      " 1   workclass        48842 non-null  object\n",
      " 2   fnlwgt           48842 non-null  int64 \n",
      " 3   education        48842 non-null  object\n",
      " 4   educational-num  48842 non-null  int64 \n",
      " 5   marital-status   48842 non-null  object\n",
      " 6   occupation       48842 non-null  object\n",
      " 7   relationship     48842 non-null  object\n",
      " 8   race             48842 non-null  object\n",
      " 9   gender           48842 non-null  object\n",
      " 10  capital-gain     48842 non-null  int64 \n",
      " 11  capital-loss     48842 non-null  int64 \n",
      " 12  hours-per-week   48842 non-null  int64 \n",
      " 13  native-country   48842 non-null  object\n",
      " 14  income           48842 non-null  object\n",
      "dtypes: int64(6), object(9)\n",
      "memory usage: 5.6+ MB\n"
     ]
    }
   ],
   "source": [
    "# data frame infomation\n",
    "df.info()"
   ]
  },
  {
   "cell_type": "code",
   "execution_count": 6,
   "metadata": {},
   "outputs": [
    {
     "data": {
      "text/plain": [
       "age                0.0\n",
       "capital-gain       0.0\n",
       "capital-loss       0.0\n",
       "education          0.0\n",
       "educational-num    0.0\n",
       "fnlwgt             0.0\n",
       "gender             0.0\n",
       "hours-per-week     0.0\n",
       "income             0.0\n",
       "marital-status     0.0\n",
       "native-country     0.0\n",
       "occupation         0.0\n",
       "race               0.0\n",
       "relationship       0.0\n",
       "workclass          0.0\n",
       "dtype: float64"
      ]
     },
     "execution_count": 6,
     "metadata": {},
     "output_type": "execute_result"
    }
   ],
   "source": [
    "# checking missing values of data frame\n",
    "df.isnull().sum().sort_index() / len(df)"
   ]
  },
  {
   "cell_type": "code",
   "execution_count": 7,
   "metadata": {},
   "outputs": [
    {
     "data": {
      "text/plain": [
       "<AxesSubplot:xlabel='age', ylabel='Count'>"
      ]
     },
     "execution_count": 7,
     "metadata": {},
     "output_type": "execute_result"
    },
    {
     "data": {
      "image/png": "[encoded data removed]",
      "text/plain": [
       "<Figure size 432x288 with 1 Axes>"
      ]
     },
     "metadata": {
      "needs_background": "light"
     },
     "output_type": "display_data"
    }
   ],
   "source": [
    "# Age, clearly skewed \n",
    "sns.histplot(df['age'] , bins = 15,kde = True) # skewed maybe needs to be normalized later"
   ]
  },
  {
   "cell_type": "code",
   "execution_count": 8,
   "metadata": {},
   "outputs": [
    {
     "data": {
      "text/plain": [
       "array(['Private', 'Local-gov', '?', 'Self-emp-not-inc', 'Federal-gov',\n",
       "       'State-gov', 'Self-emp-inc', 'Without-pay', 'Never-worked'],\n",
       "      dtype=object)"
      ]
     },
     "execution_count": 8,
     "metadata": {},
     "output_type": "execute_result"
    }
   ],
   "source": [
    "# Workclass variable is a categorical column so let's check the unique categories\n",
    "df['workclass'].unique()"
   ]
  },
  {
   "cell_type": "code",
   "execution_count": 9,
   "metadata": {},
   "outputs": [
    {
     "data": {
      "text/plain": [
       "age                2799\n",
       "workclass          2799\n",
       "fnlwgt             2799\n",
       "education          2799\n",
       "educational-num    2799\n",
       "marital-status     2799\n",
       "occupation         2799\n",
       "relationship       2799\n",
       "race               2799\n",
       "gender             2799\n",
       "capital-gain       2799\n",
       "capital-loss       2799\n",
       "hours-per-week     2799\n",
       "native-country     2799\n",
       "income             2799\n",
       "dtype: int64"
      ]
     },
     "execution_count": 9,
     "metadata": {},
     "output_type": "execute_result"
    }
   ],
   "source": [
    "# Interestingly there is category with '?' workclass, total rows 2799\n",
    "df[df['workclass'] == '?'].count()"
   ]
  },
  {
   "cell_type": "code",
   "execution_count": 10,
   "metadata": {},
   "outputs": [
    {
     "data": {
      "text/plain": [
       "array(['Private', 'Local-gov', 'Other', 'Self-emp-not-inc', 'Federal-gov',\n",
       "       'State-gov', 'Self-emp-inc', 'Without-pay', 'Never-worked'],\n",
       "      dtype=object)"
      ]
     },
     "execution_count": 10,
     "metadata": {},
     "output_type": "execute_result"
    }
   ],
   "source": [
    "# '?' can be renamed for 'other' as it's unknown or mistake\n",
    "df['workclass'] = df['workclass'].replace({'?':'Other'})\n",
    "df['workclass'].unique()"
   ]
  },
  {
   "cell_type": "code",
   "execution_count": 11,
   "metadata": {},
   "outputs": [
    {
     "data": {
      "text/plain": [
       "count    4.884200e+04\n",
       "mean     1.896641e+05\n",
       "std      1.056040e+05\n",
       "min      1.228500e+04\n",
       "25%      1.175505e+05\n",
       "50%      1.781445e+05\n",
       "75%      2.376420e+05\n",
       "max      1.490400e+06\n",
       "Name: fnlwgt, dtype: float64"
      ]
     },
     "execution_count": 11,
     "metadata": {},
     "output_type": "execute_result"
    }
   ],
   "source": [
    "# fnlwgt, final weight\n",
    "# high numbers for STD lets use log on it \n",
    "df['fnlwgt'].describe() "
   ]
  },
  {
   "cell_type": "code",
   "execution_count": 12,
   "metadata": {},
   "outputs": [
    {
     "data": {
      "text/plain": [
       "count    48842.000000\n",
       "mean        11.982958\n",
       "std          0.630817\n",
       "min          9.416216\n",
       "25%         11.674632\n",
       "50%         12.090356\n",
       "75%         12.378525\n",
       "max         14.214556\n",
       "Name: fnlwgt, dtype: float64"
      ]
     },
     "execution_count": 12,
     "metadata": {},
     "output_type": "execute_result"
    }
   ],
   "source": [
    "# After applying log\n",
    "df['fnlwgt'] = df['fnlwgt'].apply(lambda x: np.log1p(x))\n",
    "df['fnlwgt'].describe()"
   ]
  },
  {
   "cell_type": "code",
   "execution_count": 13,
   "metadata": {},
   "outputs": [
    {
     "data": {
      "text/plain": [
       "<AxesSubplot:xlabel='fnlwgt', ylabel='Count'>"
      ]
     },
     "execution_count": 13,
     "metadata": {},
     "output_type": "execute_result"
    },
    {
     "data": {
      "image/png": "[encoded data removed]",
      "text/plain": [
       "<Figure size 432x288 with 1 Axes>"
      ]
     },
     "metadata": {
      "needs_background": "light"
     },
     "output_type": "display_data"
    }
   ],
   "source": [
    "# fnlwgt, Final Weight\n",
    "sns.histplot(df, x= 'fnlwgt'  , bins = 30 , kde = True)"
   ]
  },
  {
   "cell_type": "code",
   "execution_count": 14,
   "metadata": {},
   "outputs": [
    {
     "name": "stdout",
     "output_type": "stream",
     "text": [
      "16\n",
      "['11th' 'HS-grad' 'Assoc-acdm' 'Some-college' '10th' 'Prof-school'\n",
      " '7th-8th' 'Bachelors' 'Masters' 'Doctorate' '5th-6th' 'Assoc-voc' '9th'\n",
      " '12th' '1st-4th' 'Preschool']\n"
     ]
    }
   ],
   "source": [
    "# Education\n",
    "print(df['education'].nunique())\n",
    "print(df['education'].unique())\n"
   ]
  },
  {
   "cell_type": "code",
   "execution_count": 15,
   "metadata": {},
   "outputs": [
    {
     "data": {
      "text/plain": [
       "HS-grad         15784\n",
       "Some-college    10878\n",
       "Bachelors        8025\n",
       "Masters          2657\n",
       "Assoc-voc        2061\n",
       "11th             1812\n",
       "Assoc-acdm       1601\n",
       "10th             1389\n",
       "7th-8th           955\n",
       "Prof-school       834\n",
       "9th               756\n",
       "12th              657\n",
       "Doctorate         594\n",
       "5th-6th           509\n",
       "1st-4th           247\n",
       "Preschool          83\n",
       "Name: education, dtype: int64"
      ]
     },
     "execution_count": 15,
     "metadata": {},
     "output_type": "execute_result"
    }
   ],
   "source": [
    "# Education value counts\n",
    "df['education'].value_counts()"
   ]
  },
  {
   "cell_type": "code",
   "execution_count": 16,
   "metadata": {},
   "outputs": [
    {
     "data": {
      "text/plain": [
       "<AxesSubplot:>"
      ]
     },
     "execution_count": 16,
     "metadata": {},
     "output_type": "execute_result"
    },
    {
     "data": {
      "image/png": "[encoded data removed]",
      "text/plain": [
       "<Figure size 432x288 with 1 Axes>"
      ]
     },
     "metadata": {
      "needs_background": "light"
     },
     "output_type": "display_data"
    }
   ],
   "source": [
    "# visualizing \n",
    "df['education'].value_counts().plot(kind='bar')"
   ]
  },
  {
   "cell_type": "code",
   "execution_count": 17,
   "metadata": {},
   "outputs": [],
   "source": [
    "# lets combine early education together as primary\n",
    "def primary(x):\n",
    "    if x in ['1st-4th', '5th-6th', '7th-8th', '9th', '10th', '11th', '12th']:\n",
    "             return 'Primary'\n",
    "    else:\n",
    "             return x\n",
    "\n",
    "\n",
    "df['education'] = df['education'].apply(primary)"
   ]
  },
  {
   "cell_type": "code",
   "execution_count": 18,
   "metadata": {},
   "outputs": [
    {
     "data": {
      "text/plain": [
       "HS-grad         15784\n",
       "Some-college    10878\n",
       "Bachelors        8025\n",
       "Primary          6325\n",
       "Masters          2657\n",
       "Assoc-voc        2061\n",
       "Assoc-acdm       1601\n",
       "Prof-school       834\n",
       "Doctorate         594\n",
       "Preschool          83\n",
       "Name: education, dtype: int64"
      ]
     },
     "execution_count": 18,
     "metadata": {},
     "output_type": "execute_result"
    }
   ],
   "source": [
    "# Value counts again , more refined now\n",
    "df['education'].value_counts()"
   ]
  },
  {
   "cell_type": "code",
   "execution_count": 19,
   "metadata": {},
   "outputs": [
    {
     "data": {
      "text/plain": [
       "<AxesSubplot:>"
      ]
     },
     "execution_count": 19,
     "metadata": {},
     "output_type": "execute_result"
    },
    {
     "data": {
      "image/png": "[encoded data removed]",
      "text/plain": [
       "<Figure size 432x288 with 1 Axes>"
      ]
     },
     "metadata": {
      "needs_background": "light"
     },
     "output_type": "display_data"
    }
   ],
   "source": [
    "# education-num: continuous.\n",
    "df['educational-num'].value_counts().plot(kind='bar')"
   ]
  },
  {
   "cell_type": "code",
   "execution_count": 20,
   "metadata": {},
   "outputs": [
    {
     "data": {
      "text/plain": [
       "Married-civ-spouse       22379\n",
       "Never-married            16117\n",
       "Divorced                  6633\n",
       "Separated                 1530\n",
       "Widowed                   1518\n",
       "Married-spouse-absent      628\n",
       "Married-AF-spouse           37\n",
       "Name: marital-status, dtype: int64"
      ]
     },
     "execution_count": 20,
     "metadata": {},
     "output_type": "execute_result"
    }
   ],
   "source": [
    "# marital-status\n",
    "df['marital-status'].value_counts() "
   ]
  },
  {
   "cell_type": "code",
   "execution_count": 21,
   "metadata": {},
   "outputs": [
    {
     "data": {
      "text/plain": [
       "Married-civ-spouse       22416\n",
       "Never-married            16117\n",
       "Divorced                  6633\n",
       "Separated                 1530\n",
       "Widowed                   1518\n",
       "Married-spouse-absent      628\n",
       "Name: marital-status, dtype: int64"
      ]
     },
     "execution_count": 21,
     "metadata": {},
     "output_type": "execute_result"
    }
   ],
   "source": [
    "# Married Af spouse and married civ spouse same \n",
    "df['marital-status'].replace('Married-AF-spouse' , 'Married-civ-spouse' , inplace = True)\n",
    "df['marital-status'].value_counts()"
   ]
  },
  {
   "cell_type": "code",
   "execution_count": 22,
   "metadata": {},
   "outputs": [
    {
     "data": {
      "text/plain": [
       "Prof-specialty       6172\n",
       "Craft-repair         6112\n",
       "Exec-managerial      6086\n",
       "Adm-clerical         5611\n",
       "Sales                5504\n",
       "Other-service        4923\n",
       "Machine-op-inspct    3022\n",
       "?                    2809\n",
       "Transport-moving     2355\n",
       "Handlers-cleaners    2072\n",
       "Farming-fishing      1490\n",
       "Tech-support         1446\n",
       "Protective-serv       983\n",
       "Priv-house-serv       242\n",
       "Armed-Forces           15\n",
       "Name: occupation, dtype: int64"
      ]
     },
     "execution_count": 22,
     "metadata": {},
     "output_type": "execute_result"
    }
   ],
   "source": [
    "# occupation ,\n",
    "df['occupation'].value_counts()"
   ]
  },
  {
   "cell_type": "code",
   "execution_count": 23,
   "metadata": {},
   "outputs": [
    {
     "data": {
      "text/plain": [
       "array(['Machine-op-inspct', 'Farming-fishing', 'Protective-serv', 'Other',\n",
       "       'Other-service', 'Prof-specialty', 'Craft-repair', 'Adm-clerical',\n",
       "       'Exec-managerial', 'Tech-support', 'Sales', 'Priv-house-serv',\n",
       "       'Transport-moving', 'Handlers-cleaners', 'Armed-Forces'],\n",
       "      dtype=object)"
      ]
     },
     "execution_count": 23,
     "metadata": {},
     "output_type": "execute_result"
    }
   ],
   "source": [
    "# needs to replace '?' occupation to other/unknown\n",
    "df['occupation'] = df['occupation'].replace({'?':'Other'})\n",
    "df['occupation'].unique()"
   ]
  },
  {
   "cell_type": "code",
   "execution_count": 24,
   "metadata": {},
   "outputs": [
    {
     "data": {
      "text/plain": [
       "<AxesSubplot:>"
      ]
     },
     "execution_count": 24,
     "metadata": {},
     "output_type": "execute_result"
    },
    {
     "data": {
      "image/png": "[encoded data removed]",
      "text/plain": [
       "<Figure size 432x288 with 1 Axes>"
      ]
     },
     "metadata": {
      "needs_background": "light"
     },
     "output_type": "display_data"
    }
   ],
   "source": [
    "# relationship , \n",
    "df['relationship'].value_counts().plot(kind='bar')"
   ]
  },
  {
   "cell_type": "code",
   "execution_count": 25,
   "metadata": {},
   "outputs": [
    {
     "data": {
      "text/plain": [
       "<AxesSubplot:>"
      ]
     },
     "execution_count": 25,
     "metadata": {},
     "output_type": "execute_result"
    },
    {
     "data": {
      "image/png": "[encoded data removed]",
      "text/plain": [
       "<Figure size 432x288 with 1 Axes>"
      ]
     },
     "metadata": {
      "needs_background": "light"
     },
     "output_type": "display_data"
    }
   ],
   "source": [
    "df['race'].value_counts().plot(kind='bar')"
   ]
  },
  {
   "cell_type": "code",
   "execution_count": 26,
   "metadata": {},
   "outputs": [
    {
     "data": {
      "text/plain": [
       "<AxesSubplot:>"
      ]
     },
     "execution_count": 26,
     "metadata": {},
     "output_type": "execute_result"
    },
    {
     "data": {
      "image/png": "[encoded data removed]",
      "text/plain": [
       "<Figure size 432x288 with 1 Axes>"
      ]
     },
     "metadata": {
      "needs_background": "light"
     },
     "output_type": "display_data"
    }
   ],
   "source": [
    "df['gender'].value_counts().plot(kind='bar')"
   ]
  },
  {
   "cell_type": "code",
   "execution_count": 27,
   "metadata": {},
   "outputs": [
    {
     "data": {
      "text/plain": [
       "count    48842.000000\n",
       "mean      1079.067626\n",
       "std       7452.019058\n",
       "min          0.000000\n",
       "25%          0.000000\n",
       "50%          0.000000\n",
       "75%          0.000000\n",
       "max      99999.000000\n",
       "Name: capital-gain, dtype: float64"
      ]
     },
     "execution_count": 27,
     "metadata": {},
     "output_type": "execute_result"
    }
   ],
   "source": [
    "# capital gain\n",
    "# df['capital-gain'].nunique() # 123 different values and continous\n",
    "df['capital-gain'].describe() # Outlier possible, std is huge"
   ]
  },
  {
   "cell_type": "code",
   "execution_count": 28,
   "metadata": {},
   "outputs": [
    {
     "data": {
      "text/plain": [
       "count    48842.000000\n",
       "mean        87.502314\n",
       "std        403.004552\n",
       "min          0.000000\n",
       "25%          0.000000\n",
       "50%          0.000000\n",
       "75%          0.000000\n",
       "max       4356.000000\n",
       "Name: capital-loss, dtype: float64"
      ]
     },
     "execution_count": 28,
     "metadata": {},
     "output_type": "execute_result"
    }
   ],
   "source": [
    "# capital loss\n",
    "# df['capital-loss'].nunique() # 99 different values and continous\n",
    "df['capital-loss'].describe() # Outlier possible, again std is way too big"
   ]
  },
  {
   "cell_type": "code",
   "execution_count": 29,
   "metadata": {},
   "outputs": [
    {
     "data": {
      "text/plain": [
       "count    48842.000000\n",
       "mean        40.422382\n",
       "std         12.391444\n",
       "min          1.000000\n",
       "25%         40.000000\n",
       "50%         40.000000\n",
       "75%         45.000000\n",
       "max         99.000000\n",
       "Name: hours-per-week, dtype: float64"
      ]
     },
     "execution_count": 29,
     "metadata": {},
     "output_type": "execute_result"
    }
   ],
   "source": [
    "#Hours per week\n",
    "df['hours-per-week'].describe()"
   ]
  },
  {
   "cell_type": "code",
   "execution_count": 30,
   "metadata": {},
   "outputs": [
    {
     "data": {
      "text/plain": [
       "array(['United-States', '?', 'Peru', 'Guatemala', 'Mexico',\n",
       "       'Dominican-Republic', 'Ireland', 'Germany', 'Philippines',\n",
       "       'Thailand', 'Haiti', 'El-Salvador', 'Puerto-Rico', 'Vietnam',\n",
       "       'South', 'Columbia', 'Japan', 'India', 'Cambodia', 'Poland',\n",
       "       'Laos', 'England', 'Cuba', 'Taiwan', 'Italy', 'Canada', 'Portugal',\n",
       "       'China', 'Nicaragua', 'Honduras', 'Iran', 'Scotland', 'Jamaica',\n",
       "       'Ecuador', 'Yugoslavia', 'Hungary', 'Hong', 'Greece',\n",
       "       'Trinadad&Tobago', 'Outlying-US(Guam-USVI-etc)', 'France',\n",
       "       'Holand-Netherlands'], dtype=object)"
      ]
     },
     "execution_count": 30,
     "metadata": {},
     "output_type": "execute_result"
    }
   ],
   "source": [
    "#Native Countries\n",
    "# df['native-country'].nunique() 42 unique countries\n",
    "df['native-country'].unique() # '?' needs to replace with Other/Unkwon"
   ]
  },
  {
   "cell_type": "code",
   "execution_count": 31,
   "metadata": {},
   "outputs": [],
   "source": [
    "df['native-country'] = df['native-country'].replace({'?':'Other'})"
   ]
  },
  {
   "cell_type": "code",
   "execution_count": 32,
   "metadata": {},
   "outputs": [
    {
     "data": {
      "text/plain": [
       "array(['<=50K', '>50K'], dtype=object)"
      ]
     },
     "execution_count": 32,
     "metadata": {},
     "output_type": "execute_result"
    }
   ],
   "source": [
    "# Income , Target Variable\n",
    "df['income'].unique()"
   ]
  },
  {
   "cell_type": "code",
   "execution_count": 33,
   "metadata": {},
   "outputs": [],
   "source": [
    "df[\"income\"] = df[\"income\"].map({ \"<=50K\": 0, \">50K\": 1 }) #or df['income'].apply(lambda x: 1 if x == '>50K' else 0)"
   ]
  },
  {
   "cell_type": "code",
   "execution_count": 34,
   "metadata": {},
   "outputs": [
    {
     "data": {
      "text/plain": [
       "0    37155\n",
       "1    11687\n",
       "Name: income, dtype: int64"
      ]
     },
     "execution_count": 34,
     "metadata": {},
     "output_type": "execute_result"
    }
   ],
   "source": [
    "df['income'].value_counts()"
   ]
  },
  {
   "cell_type": "code",
   "execution_count": 35,
   "metadata": {},
   "outputs": [
    {
     "data": {
      "text/plain": [
       "(array([0, 1, 2, 3, 4, 5, 6, 7, 8, 9]),\n",
       " [Text(0, 0, 'Primary'),\n",
       "  Text(1, 0, 'HS-grad'),\n",
       "  Text(2, 0, 'Assoc-acdm'),\n",
       "  Text(3, 0, 'Some-college'),\n",
       "  Text(4, 0, 'Prof-school'),\n",
       "  Text(5, 0, 'Bachelors'),\n",
       "  Text(6, 0, 'Masters'),\n",
       "  Text(7, 0, 'Doctorate'),\n",
       "  Text(8, 0, 'Assoc-voc'),\n",
       "  Text(9, 0, 'Preschool')])"
      ]
     },
     "execution_count": 35,
     "metadata": {},
     "output_type": "execute_result"
    },
    {
     "data": {
      "image/png": "[encoded data removed]",
      "text/plain": [
       "<Figure size 504x504 with 1 Axes>"
      ]
     },
     "metadata": {
      "needs_background": "light"
     },
     "output_type": "display_data"
    }
   ],
   "source": [
    "# Education and Income\n",
    "sns.catplot(x = 'education' , y = 'income' , data = df , kind = 'bar' , height = 7)\n",
    "plt.xticks(rotation = 45)"
   ]
  },
  {
   "cell_type": "code",
   "execution_count": 36,
   "metadata": {},
   "outputs": [
    {
     "data": {
      "text/plain": [
       "(array([0, 1, 2, 3, 4, 5, 6, 7, 8]),\n",
       " [Text(0, 0, 'Private'),\n",
       "  Text(1, 0, 'Local-gov'),\n",
       "  Text(2, 0, 'Other'),\n",
       "  Text(3, 0, 'Self-emp-not-inc'),\n",
       "  Text(4, 0, 'Federal-gov'),\n",
       "  Text(5, 0, 'State-gov'),\n",
       "  Text(6, 0, 'Self-emp-inc'),\n",
       "  Text(7, 0, 'Without-pay'),\n",
       "  Text(8, 0, 'Never-worked')])"
      ]
     },
     "execution_count": 36,
     "metadata": {},
     "output_type": "execute_result"
    },
    {
     "data": {
      "image/png": "[encoded data removed]",
      "text/plain": [
       "<Figure size 432x432 with 1 Axes>"
      ]
     },
     "metadata": {
      "needs_background": "light"
     },
     "output_type": "display_data"
    }
   ],
   "source": [
    "# Workclass and Income\n",
    "sns.catplot(x = 'workclass' , y = 'income' ,data = df , kind = 'bar' , height= 6 , palette= 'muted')\n",
    "plt.xticks(rotation = 45)"
   ]
  },
  {
   "cell_type": "code",
   "execution_count": 37,
   "metadata": {},
   "outputs": [
    {
     "data": {
      "text/plain": [
       "<seaborn.axisgrid.FacetGrid at 0x1c074362d30>"
      ]
     },
     "execution_count": 37,
     "metadata": {},
     "output_type": "execute_result"
    },
    {
     "data": {
      "image/png": "[encoded data removed]",
      "text/plain": [
       "<Figure size 360x360 with 1 Axes>"
      ]
     },
     "metadata": {
      "needs_background": "light"
     },
     "output_type": "display_data"
    }
   ],
   "source": [
    "# education num\n",
    "sns.catplot(x = 'educational-num' , y = 'income' , data = df , kind = 'bar')"
   ]
  },
  {
   "cell_type": "code",
   "execution_count": 38,
   "metadata": {},
   "outputs": [
    {
     "data": {
      "text/plain": [
       "(array([0, 1, 2, 3, 4, 5]),\n",
       " [Text(0, 0, 'Never-married'),\n",
       "  Text(1, 0, 'Married-civ-spouse'),\n",
       "  Text(2, 0, 'Widowed'),\n",
       "  Text(3, 0, 'Divorced'),\n",
       "  Text(4, 0, 'Separated'),\n",
       "  Text(5, 0, 'Married-spouse-absent')])"
      ]
     },
     "execution_count": 38,
     "metadata": {},
     "output_type": "execute_result"
    },
    {
     "data": {
      "image/png": "[encoded data removed]",
      "text/plain": [
       "<Figure size 360x360 with 1 Axes>"
      ]
     },
     "metadata": {
      "needs_background": "light"
     },
     "output_type": "display_data"
    }
   ],
   "source": [
    "# Marital Status and Income\n",
    "sns.catplot(x = 'marital-status' , y = 'income' , data = df , kind = 'bar')\n",
    "plt.xticks(rotation = 60)"
   ]
  },
  {
   "cell_type": "code",
   "execution_count": 39,
   "metadata": {},
   "outputs": [
    {
     "data": {
      "text/plain": [
       "(array([ 0,  1,  2,  3,  4,  5,  6,  7,  8,  9, 10, 11, 12, 13, 14]),\n",
       " [Text(0, 0, 'Machine-op-inspct'),\n",
       "  Text(1, 0, 'Farming-fishing'),\n",
       "  Text(2, 0, 'Protective-serv'),\n",
       "  Text(3, 0, 'Other'),\n",
       "  Text(4, 0, 'Other-service'),\n",
       "  Text(5, 0, 'Prof-specialty'),\n",
       "  Text(6, 0, 'Craft-repair'),\n",
       "  Text(7, 0, 'Adm-clerical'),\n",
       "  Text(8, 0, 'Exec-managerial'),\n",
       "  Text(9, 0, 'Tech-support'),\n",
       "  Text(10, 0, 'Sales'),\n",
       "  Text(11, 0, 'Priv-house-serv'),\n",
       "  Text(12, 0, 'Transport-moving'),\n",
       "  Text(13, 0, 'Handlers-cleaners'),\n",
       "  Text(14, 0, 'Armed-Forces')])"
      ]
     },
     "execution_count": 39,
     "metadata": {},
     "output_type": "execute_result"
    },
    {
     "data": {
      "image/png": "[encoded data removed]",
      "text/plain": [
       "<Figure size 576x576 with 1 Axes>"
      ]
     },
     "metadata": {
      "needs_background": "light"
     },
     "output_type": "display_data"
    }
   ],
   "source": [
    "# occupation and Income\n",
    "sns.catplot(x = 'occupation' , y = 'income' , data = df , kind = 'bar' , height = 8)\n",
    "plt.xticks(rotation = 60)"
   ]
  },
  {
   "cell_type": "code",
   "execution_count": 40,
   "metadata": {},
   "outputs": [
    {
     "data": {
      "text/plain": [
       "(array([0, 1, 2, 3, 4, 5]),\n",
       " [Text(0, 0, 'Own-child'),\n",
       "  Text(1, 0, 'Husband'),\n",
       "  Text(2, 0, 'Not-in-family'),\n",
       "  Text(3, 0, 'Unmarried'),\n",
       "  Text(4, 0, 'Wife'),\n",
       "  Text(5, 0, 'Other-relative')])"
      ]
     },
     "execution_count": 40,
     "metadata": {},
     "output_type": "execute_result"
    },
    {
     "data": {
      "image/png": "[encoded data removed]",
      "text/plain": [
       "<Figure size 576x576 with 1 Axes>"
      ]
     },
     "metadata": {
      "needs_background": "light"
     },
     "output_type": "display_data"
    }
   ],
   "source": [
    "# relationship and Income\n",
    "sns.catplot(x = 'relationship' , y = 'income' , data = df , kind = 'bar' , height = 8)\n",
    "plt.xticks(rotation = 60)"
   ]
  },
  {
   "cell_type": "code",
   "execution_count": 41,
   "metadata": {},
   "outputs": [
    {
     "data": {
      "text/plain": [
       "(array([0, 1, 2, 3, 4]),\n",
       " [Text(0, 0, 'Black'),\n",
       "  Text(1, 0, 'White'),\n",
       "  Text(2, 0, 'Asian-Pac-Islander'),\n",
       "  Text(3, 0, 'Other'),\n",
       "  Text(4, 0, 'Amer-Indian-Eskimo')])"
      ]
     },
     "execution_count": 41,
     "metadata": {},
     "output_type": "execute_result"
    },
    {
     "data": {
      "image/png": "[encoded data removed]",
      "text/plain": [
       "<Figure size 576x576 with 1 Axes>"
      ]
     },
     "metadata": {
      "needs_background": "light"
     },
     "output_type": "display_data"
    }
   ],
   "source": [
    "# Race and Income\n",
    "sns.catplot(x = 'race' , y = 'income' , data = df , kind = 'bar' , height = 8)\n",
    "plt.xticks(rotation = 60)"
   ]
  },
  {
   "cell_type": "code",
   "execution_count": 42,
   "metadata": {},
   "outputs": [
    {
     "data": {
      "text/plain": [
       "(array([0, 1]), [Text(0, 0, 'Male'), Text(1, 0, 'Female')])"
      ]
     },
     "execution_count": 42,
     "metadata": {},
     "output_type": "execute_result"
    },
    {
     "data": {
      "image/png": "[encoded data removed]",
      "text/plain": [
       "<Figure size 576x576 with 1 Axes>"
      ]
     },
     "metadata": {
      "needs_background": "light"
     },
     "output_type": "display_data"
    }
   ],
   "source": [
    "# Gender and Income\n",
    "sns.catplot(x = 'gender' , y = 'income' , data = df , kind = 'bar' , height = 8)\n",
    "plt.xticks(rotation = 60)"
   ]
  },
  {
   "cell_type": "code",
   "execution_count": 43,
   "metadata": {},
   "outputs": [
    {
     "data": {
      "text/plain": [
       "(array([ 0,  1,  2,  3,  4,  5,  6,  7,  8,  9, 10, 11, 12, 13, 14, 15, 16,\n",
       "        17, 18, 19, 20, 21, 22, 23, 24, 25, 26, 27, 28, 29, 30, 31, 32, 33,\n",
       "        34, 35, 36, 37, 38, 39, 40, 41]),\n",
       " [Text(0, 0, 'United-States'),\n",
       "  Text(1, 0, 'Other'),\n",
       "  Text(2, 0, 'Peru'),\n",
       "  Text(3, 0, 'Guatemala'),\n",
       "  Text(4, 0, 'Mexico'),\n",
       "  Text(5, 0, 'Dominican-Republic'),\n",
       "  Text(6, 0, 'Ireland'),\n",
       "  Text(7, 0, 'Germany'),\n",
       "  Text(8, 0, 'Philippines'),\n",
       "  Text(9, 0, 'Thailand'),\n",
       "  Text(10, 0, 'Haiti'),\n",
       "  Text(11, 0, 'El-Salvador'),\n",
       "  Text(12, 0, 'Puerto-Rico'),\n",
       "  Text(13, 0, 'Vietnam'),\n",
       "  Text(14, 0, 'South'),\n",
       "  Text(15, 0, 'Columbia'),\n",
       "  Text(16, 0, 'Japan'),\n",
       "  Text(17, 0, 'India'),\n",
       "  Text(18, 0, 'Cambodia'),\n",
       "  Text(19, 0, 'Poland'),\n",
       "  Text(20, 0, 'Laos'),\n",
       "  Text(21, 0, 'England'),\n",
       "  Text(22, 0, 'Cuba'),\n",
       "  Text(23, 0, 'Taiwan'),\n",
       "  Text(24, 0, 'Italy'),\n",
       "  Text(25, 0, 'Canada'),\n",
       "  Text(26, 0, 'Portugal'),\n",
       "  Text(27, 0, 'China'),\n",
       "  Text(28, 0, 'Nicaragua'),\n",
       "  Text(29, 0, 'Honduras'),\n",
       "  Text(30, 0, 'Iran'),\n",
       "  Text(31, 0, 'Scotland'),\n",
       "  Text(32, 0, 'Jamaica'),\n",
       "  Text(33, 0, 'Ecuador'),\n",
       "  Text(34, 0, 'Yugoslavia'),\n",
       "  Text(35, 0, 'Hungary'),\n",
       "  Text(36, 0, 'Hong'),\n",
       "  Text(37, 0, 'Greece'),\n",
       "  Text(38, 0, 'Trinadad&Tobago'),\n",
       "  Text(39, 0, 'Outlying-US(Guam-USVI-etc)'),\n",
       "  Text(40, 0, 'France'),\n",
       "  Text(41, 0, 'Holand-Netherlands')])"
      ]
     },
     "execution_count": 43,
     "metadata": {},
     "output_type": "execute_result"
    },
    {
     "data": {
      "image/png": "[encoded data removed]",
      "text/plain": [
       "<Figure size 720x720 with 1 Axes>"
      ]
     },
     "metadata": {
      "needs_background": "light"
     },
     "output_type": "display_data"
    }
   ],
   "source": [
    "# native country\n",
    "sns.catplot(x = 'native-country' , y = 'income' , data = df , kind = 'bar', height = 10)\n",
    "plt.xticks(rotation = 80)"
   ]
  },
  {
   "cell_type": "code",
   "execution_count": 44,
   "metadata": {},
   "outputs": [],
   "source": [
    "# object(categorical columns)\n",
    "categorical_features = df.select_dtypes(include =['object']).axes[1]"
   ]
  },
  {
   "cell_type": "code",
   "execution_count": 45,
   "metadata": {},
   "outputs": [],
   "source": [
    "# one hot encoding and also concating the rest of columns.\n",
    "# dropping the first columns which is usually considered for better results\n",
    "\n",
    "for col in categorical_features:\n",
    "    df = pd.concat([df , pd.get_dummies(df[col], prefix = col , prefix_sep = ':', drop_first = True)] , axis = 1)\n",
    "    df.drop(col , axis = 1 , inplace = True)"
   ]
  },
  {
   "cell_type": "code",
   "execution_count": 46,
   "metadata": {},
   "outputs": [
    {
     "data": {
      "text/html": [
       "<div>\n",
       "<style scoped>\n",
       "    .dataframe tbody tr th:only-of-type {\n",
       "        vertical-align: middle;\n",
       "    }\n",
       "\n",
       "    .dataframe tbody tr th {\n",
       "        vertical-align: top;\n",
       "    }\n",
       "\n",
       "    .dataframe thead th {\n",
       "        text-align: right;\n",
       "    }\n",
       "</style>\n",
       "<table border=\"1\" class=\"dataframe\">\n",
       "  <thead>\n",
       "    <tr style=\"text-align: right;\">\n",
       "      <th></th>\n",
       "      <th>age</th>\n",
       "      <th>fnlwgt</th>\n",
       "      <th>educational-num</th>\n",
       "      <th>capital-gain</th>\n",
       "      <th>capital-loss</th>\n",
       "      <th>hours-per-week</th>\n",
       "      <th>income</th>\n",
       "      <th>workclass:Local-gov</th>\n",
       "      <th>workclass:Never-worked</th>\n",
       "      <th>workclass:Other</th>\n",
       "      <th>...</th>\n",
       "      <th>native-country:Portugal</th>\n",
       "      <th>native-country:Puerto-Rico</th>\n",
       "      <th>native-country:Scotland</th>\n",
       "      <th>native-country:South</th>\n",
       "      <th>native-country:Taiwan</th>\n",
       "      <th>native-country:Thailand</th>\n",
       "      <th>native-country:Trinadad&amp;Tobago</th>\n",
       "      <th>native-country:United-States</th>\n",
       "      <th>native-country:Vietnam</th>\n",
       "      <th>native-country:Yugoslavia</th>\n",
       "    </tr>\n",
       "  </thead>\n",
       "  <tbody>\n",
       "    <tr>\n",
       "      <th>0</th>\n",
       "      <td>25</td>\n",
       "      <td>12.331837</td>\n",
       "      <td>7</td>\n",
       "      <td>0</td>\n",
       "      <td>0</td>\n",
       "      <td>40</td>\n",
       "      <td>0</td>\n",
       "      <td>0</td>\n",
       "      <td>0</td>\n",
       "      <td>0</td>\n",
       "      <td>...</td>\n",
       "      <td>0</td>\n",
       "      <td>0</td>\n",
       "      <td>0</td>\n",
       "      <td>0</td>\n",
       "      <td>0</td>\n",
       "      <td>0</td>\n",
       "      <td>0</td>\n",
       "      <td>1</td>\n",
       "      <td>0</td>\n",
       "      <td>0</td>\n",
       "    </tr>\n",
       "    <tr>\n",
       "      <th>1</th>\n",
       "      <td>38</td>\n",
       "      <td>11.405507</td>\n",
       "      <td>9</td>\n",
       "      <td>0</td>\n",
       "      <td>0</td>\n",
       "      <td>50</td>\n",
       "      <td>0</td>\n",
       "      <td>0</td>\n",
       "      <td>0</td>\n",
       "      <td>0</td>\n",
       "      <td>...</td>\n",
       "      <td>0</td>\n",
       "      <td>0</td>\n",
       "      <td>0</td>\n",
       "      <td>0</td>\n",
       "      <td>0</td>\n",
       "      <td>0</td>\n",
       "      <td>0</td>\n",
       "      <td>1</td>\n",
       "      <td>0</td>\n",
       "      <td>0</td>\n",
       "    </tr>\n",
       "    <tr>\n",
       "      <th>2</th>\n",
       "      <td>28</td>\n",
       "      <td>12.727696</td>\n",
       "      <td>12</td>\n",
       "      <td>0</td>\n",
       "      <td>0</td>\n",
       "      <td>40</td>\n",
       "      <td>1</td>\n",
       "      <td>1</td>\n",
       "      <td>0</td>\n",
       "      <td>0</td>\n",
       "      <td>...</td>\n",
       "      <td>0</td>\n",
       "      <td>0</td>\n",
       "      <td>0</td>\n",
       "      <td>0</td>\n",
       "      <td>0</td>\n",
       "      <td>0</td>\n",
       "      <td>0</td>\n",
       "      <td>1</td>\n",
       "      <td>0</td>\n",
       "      <td>0</td>\n",
       "    </tr>\n",
       "    <tr>\n",
       "      <th>3</th>\n",
       "      <td>44</td>\n",
       "      <td>11.984952</td>\n",
       "      <td>10</td>\n",
       "      <td>7688</td>\n",
       "      <td>0</td>\n",
       "      <td>40</td>\n",
       "      <td>1</td>\n",
       "      <td>0</td>\n",
       "      <td>0</td>\n",
       "      <td>0</td>\n",
       "      <td>...</td>\n",
       "      <td>0</td>\n",
       "      <td>0</td>\n",
       "      <td>0</td>\n",
       "      <td>0</td>\n",
       "      <td>0</td>\n",
       "      <td>0</td>\n",
       "      <td>0</td>\n",
       "      <td>1</td>\n",
       "      <td>0</td>\n",
       "      <td>0</td>\n",
       "    </tr>\n",
       "    <tr>\n",
       "      <th>4</th>\n",
       "      <td>18</td>\n",
       "      <td>11.547308</td>\n",
       "      <td>10</td>\n",
       "      <td>0</td>\n",
       "      <td>0</td>\n",
       "      <td>30</td>\n",
       "      <td>0</td>\n",
       "      <td>0</td>\n",
       "      <td>0</td>\n",
       "      <td>1</td>\n",
       "      <td>...</td>\n",
       "      <td>0</td>\n",
       "      <td>0</td>\n",
       "      <td>0</td>\n",
       "      <td>0</td>\n",
       "      <td>0</td>\n",
       "      <td>0</td>\n",
       "      <td>0</td>\n",
       "      <td>1</td>\n",
       "      <td>0</td>\n",
       "      <td>0</td>\n",
       "    </tr>\n",
       "  </tbody>\n",
       "</table>\n",
       "<p>5 rows × 94 columns</p>\n",
       "</div>"
      ],
      "text/plain": [
       "   age     fnlwgt  educational-num  capital-gain  capital-loss  \\\n",
       "0   25  12.331837                7             0             0   \n",
       "1   38  11.405507                9             0             0   \n",
       "2   28  12.727696               12             0             0   \n",
       "3   44  11.984952               10          7688             0   \n",
       "4   18  11.547308               10             0             0   \n",
       "\n",
       "   hours-per-week  income  workclass:Local-gov  workclass:Never-worked  \\\n",
       "0              40       0                    0                       0   \n",
       "1              50       0                    0                       0   \n",
       "2              40       1                    1                       0   \n",
       "3              40       1                    0                       0   \n",
       "4              30       0                    0                       0   \n",
       "\n",
       "   workclass:Other  ...  native-country:Portugal  native-country:Puerto-Rico  \\\n",
       "0                0  ...                        0                           0   \n",
       "1                0  ...                        0                           0   \n",
       "2                0  ...                        0                           0   \n",
       "3                0  ...                        0                           0   \n",
       "4                1  ...                        0                           0   \n",
       "\n",
       "   native-country:Scotland  native-country:South  native-country:Taiwan  \\\n",
       "0                        0                     0                      0   \n",
       "1                        0                     0                      0   \n",
       "2                        0                     0                      0   \n",
       "3                        0                     0                      0   \n",
       "4                        0                     0                      0   \n",
       "\n",
       "   native-country:Thailand  native-country:Trinadad&Tobago  \\\n",
       "0                        0                               0   \n",
       "1                        0                               0   \n",
       "2                        0                               0   \n",
       "3                        0                               0   \n",
       "4                        0                               0   \n",
       "\n",
       "   native-country:United-States  native-country:Vietnam  \\\n",
       "0                             1                       0   \n",
       "1                             1                       0   \n",
       "2                             1                       0   \n",
       "3                             1                       0   \n",
       "4                             1                       0   \n",
       "\n",
       "   native-country:Yugoslavia  \n",
       "0                          0  \n",
       "1                          0  \n",
       "2                          0  \n",
       "3                          0  \n",
       "4                          0  \n",
       "\n",
       "[5 rows x 94 columns]"
      ]
     },
     "execution_count": 46,
     "metadata": {},
     "output_type": "execute_result"
    }
   ],
   "source": [
    "df.head()"
   ]
  },
  {
   "cell_type": "code",
   "execution_count": 47,
   "metadata": {},
   "outputs": [
    {
     "name": "stdout",
     "output_type": "stream",
     "text": [
      "<class 'pandas.core.frame.DataFrame'>\n",
      "RangeIndex: 48842 entries, 0 to 48841\n",
      "Data columns (total 94 columns):\n",
      " #   Column                                     Non-Null Count  Dtype  \n",
      "---  ------                                     --------------  -----  \n",
      " 0   age                                        48842 non-null  int64  \n",
      " 1   fnlwgt                                     48842 non-null  float64\n",
      " 2   educational-num                            48842 non-null  int64  \n",
      " 3   capital-gain                               48842 non-null  int64  \n",
      " 4   capital-loss                               48842 non-null  int64  \n",
      " 5   hours-per-week                             48842 non-null  int64  \n",
      " 6   income                                     48842 non-null  int64  \n",
      " 7   workclass:Local-gov                        48842 non-null  uint8  \n",
      " 8   workclass:Never-worked                     48842 non-null  uint8  \n",
      " 9   workclass:Other                            48842 non-null  uint8  \n",
      " 10  workclass:Private                          48842 non-null  uint8  \n",
      " 11  workclass:Self-emp-inc                     48842 non-null  uint8  \n",
      " 12  workclass:Self-emp-not-inc                 48842 non-null  uint8  \n",
      " 13  workclass:State-gov                        48842 non-null  uint8  \n",
      " 14  workclass:Without-pay                      48842 non-null  uint8  \n",
      " 15  education:Assoc-voc                        48842 non-null  uint8  \n",
      " 16  education:Bachelors                        48842 non-null  uint8  \n",
      " 17  education:Doctorate                        48842 non-null  uint8  \n",
      " 18  education:HS-grad                          48842 non-null  uint8  \n",
      " 19  education:Masters                          48842 non-null  uint8  \n",
      " 20  education:Preschool                        48842 non-null  uint8  \n",
      " 21  education:Primary                          48842 non-null  uint8  \n",
      " 22  education:Prof-school                      48842 non-null  uint8  \n",
      " 23  education:Some-college                     48842 non-null  uint8  \n",
      " 24  marital-status:Married-civ-spouse          48842 non-null  uint8  \n",
      " 25  marital-status:Married-spouse-absent       48842 non-null  uint8  \n",
      " 26  marital-status:Never-married               48842 non-null  uint8  \n",
      " 27  marital-status:Separated                   48842 non-null  uint8  \n",
      " 28  marital-status:Widowed                     48842 non-null  uint8  \n",
      " 29  occupation:Armed-Forces                    48842 non-null  uint8  \n",
      " 30  occupation:Craft-repair                    48842 non-null  uint8  \n",
      " 31  occupation:Exec-managerial                 48842 non-null  uint8  \n",
      " 32  occupation:Farming-fishing                 48842 non-null  uint8  \n",
      " 33  occupation:Handlers-cleaners               48842 non-null  uint8  \n",
      " 34  occupation:Machine-op-inspct               48842 non-null  uint8  \n",
      " 35  occupation:Other                           48842 non-null  uint8  \n",
      " 36  occupation:Other-service                   48842 non-null  uint8  \n",
      " 37  occupation:Priv-house-serv                 48842 non-null  uint8  \n",
      " 38  occupation:Prof-specialty                  48842 non-null  uint8  \n",
      " 39  occupation:Protective-serv                 48842 non-null  uint8  \n",
      " 40  occupation:Sales                           48842 non-null  uint8  \n",
      " 41  occupation:Tech-support                    48842 non-null  uint8  \n",
      " 42  occupation:Transport-moving                48842 non-null  uint8  \n",
      " 43  relationship:Not-in-family                 48842 non-null  uint8  \n",
      " 44  relationship:Other-relative                48842 non-null  uint8  \n",
      " 45  relationship:Own-child                     48842 non-null  uint8  \n",
      " 46  relationship:Unmarried                     48842 non-null  uint8  \n",
      " 47  relationship:Wife                          48842 non-null  uint8  \n",
      " 48  race:Asian-Pac-Islander                    48842 non-null  uint8  \n",
      " 49  race:Black                                 48842 non-null  uint8  \n",
      " 50  race:Other                                 48842 non-null  uint8  \n",
      " 51  race:White                                 48842 non-null  uint8  \n",
      " 52  gender:Male                                48842 non-null  uint8  \n",
      " 53  native-country:Canada                      48842 non-null  uint8  \n",
      " 54  native-country:China                       48842 non-null  uint8  \n",
      " 55  native-country:Columbia                    48842 non-null  uint8  \n",
      " 56  native-country:Cuba                        48842 non-null  uint8  \n",
      " 57  native-country:Dominican-Republic          48842 non-null  uint8  \n",
      " 58  native-country:Ecuador                     48842 non-null  uint8  \n",
      " 59  native-country:El-Salvador                 48842 non-null  uint8  \n",
      " 60  native-country:England                     48842 non-null  uint8  \n",
      " 61  native-country:France                      48842 non-null  uint8  \n",
      " 62  native-country:Germany                     48842 non-null  uint8  \n",
      " 63  native-country:Greece                      48842 non-null  uint8  \n",
      " 64  native-country:Guatemala                   48842 non-null  uint8  \n",
      " 65  native-country:Haiti                       48842 non-null  uint8  \n",
      " 66  native-country:Holand-Netherlands          48842 non-null  uint8  \n",
      " 67  native-country:Honduras                    48842 non-null  uint8  \n",
      " 68  native-country:Hong                        48842 non-null  uint8  \n",
      " 69  native-country:Hungary                     48842 non-null  uint8  \n",
      " 70  native-country:India                       48842 non-null  uint8  \n",
      " 71  native-country:Iran                        48842 non-null  uint8  \n",
      " 72  native-country:Ireland                     48842 non-null  uint8  \n",
      " 73  native-country:Italy                       48842 non-null  uint8  \n",
      " 74  native-country:Jamaica                     48842 non-null  uint8  \n",
      " 75  native-country:Japan                       48842 non-null  uint8  \n",
      " 76  native-country:Laos                        48842 non-null  uint8  \n",
      " 77  native-country:Mexico                      48842 non-null  uint8  \n",
      " 78  native-country:Nicaragua                   48842 non-null  uint8  \n",
      " 79  native-country:Other                       48842 non-null  uint8  \n",
      " 80  native-country:Outlying-US(Guam-USVI-etc)  48842 non-null  uint8  \n",
      " 81  native-country:Peru                        48842 non-null  uint8  \n",
      " 82  native-country:Philippines                 48842 non-null  uint8  \n",
      " 83  native-country:Poland                      48842 non-null  uint8  \n",
      " 84  native-country:Portugal                    48842 non-null  uint8  \n",
      " 85  native-country:Puerto-Rico                 48842 non-null  uint8  \n",
      " 86  native-country:Scotland                    48842 non-null  uint8  \n",
      " 87  native-country:South                       48842 non-null  uint8  \n",
      " 88  native-country:Taiwan                      48842 non-null  uint8  \n",
      " 89  native-country:Thailand                    48842 non-null  uint8  \n",
      " 90  native-country:Trinadad&Tobago             48842 non-null  uint8  \n",
      " 91  native-country:United-States               48842 non-null  uint8  \n",
      " 92  native-country:Vietnam                     48842 non-null  uint8  \n",
      " 93  native-country:Yugoslavia                  48842 non-null  uint8  \n",
      "dtypes: float64(1), int64(6), uint8(87)\n",
      "memory usage: 6.7 MB\n"
     ]
    }
   ],
   "source": [
    "df.info()"
   ]
  },
  {
   "cell_type": "code",
   "execution_count": 48,
   "metadata": {},
   "outputs": [],
   "source": [
    "X = df.drop('income' , axis = 1).copy()\n",
    "y = df['income']"
   ]
  },
  {
   "cell_type": "code",
   "execution_count": 49,
   "metadata": {},
   "outputs": [
    {
     "data": {
      "text/html": [
       "<div>\n",
       "<style scoped>\n",
       "    .dataframe tbody tr th:only-of-type {\n",
       "        vertical-align: middle;\n",
       "    }\n",
       "\n",
       "    .dataframe tbody tr th {\n",
       "        vertical-align: top;\n",
       "    }\n",
       "\n",
       "    .dataframe thead th {\n",
       "        text-align: right;\n",
       "    }\n",
       "</style>\n",
       "<table border=\"1\" class=\"dataframe\">\n",
       "  <thead>\n",
       "    <tr style=\"text-align: right;\">\n",
       "      <th></th>\n",
       "      <th>age</th>\n",
       "      <th>fnlwgt</th>\n",
       "      <th>educational-num</th>\n",
       "      <th>capital-gain</th>\n",
       "      <th>capital-loss</th>\n",
       "      <th>hours-per-week</th>\n",
       "      <th>workclass:Local-gov</th>\n",
       "      <th>workclass:Never-worked</th>\n",
       "      <th>workclass:Other</th>\n",
       "      <th>workclass:Private</th>\n",
       "      <th>...</th>\n",
       "      <th>native-country:Portugal</th>\n",
       "      <th>native-country:Puerto-Rico</th>\n",
       "      <th>native-country:Scotland</th>\n",
       "      <th>native-country:South</th>\n",
       "      <th>native-country:Taiwan</th>\n",
       "      <th>native-country:Thailand</th>\n",
       "      <th>native-country:Trinadad&amp;Tobago</th>\n",
       "      <th>native-country:United-States</th>\n",
       "      <th>native-country:Vietnam</th>\n",
       "      <th>native-country:Yugoslavia</th>\n",
       "    </tr>\n",
       "  </thead>\n",
       "  <tbody>\n",
       "    <tr>\n",
       "      <th>0</th>\n",
       "      <td>25</td>\n",
       "      <td>12.331837</td>\n",
       "      <td>7</td>\n",
       "      <td>0</td>\n",
       "      <td>0</td>\n",
       "      <td>40</td>\n",
       "      <td>0</td>\n",
       "      <td>0</td>\n",
       "      <td>0</td>\n",
       "      <td>1</td>\n",
       "      <td>...</td>\n",
       "      <td>0</td>\n",
       "      <td>0</td>\n",
       "      <td>0</td>\n",
       "      <td>0</td>\n",
       "      <td>0</td>\n",
       "      <td>0</td>\n",
       "      <td>0</td>\n",
       "      <td>1</td>\n",
       "      <td>0</td>\n",
       "      <td>0</td>\n",
       "    </tr>\n",
       "    <tr>\n",
       "      <th>1</th>\n",
       "      <td>38</td>\n",
       "      <td>11.405507</td>\n",
       "      <td>9</td>\n",
       "      <td>0</td>\n",
       "      <td>0</td>\n",
       "      <td>50</td>\n",
       "      <td>0</td>\n",
       "      <td>0</td>\n",
       "      <td>0</td>\n",
       "      <td>1</td>\n",
       "      <td>...</td>\n",
       "      <td>0</td>\n",
       "      <td>0</td>\n",
       "      <td>0</td>\n",
       "      <td>0</td>\n",
       "      <td>0</td>\n",
       "      <td>0</td>\n",
       "      <td>0</td>\n",
       "      <td>1</td>\n",
       "      <td>0</td>\n",
       "      <td>0</td>\n",
       "    </tr>\n",
       "    <tr>\n",
       "      <th>2</th>\n",
       "      <td>28</td>\n",
       "      <td>12.727696</td>\n",
       "      <td>12</td>\n",
       "      <td>0</td>\n",
       "      <td>0</td>\n",
       "      <td>40</td>\n",
       "      <td>1</td>\n",
       "      <td>0</td>\n",
       "      <td>0</td>\n",
       "      <td>0</td>\n",
       "      <td>...</td>\n",
       "      <td>0</td>\n",
       "      <td>0</td>\n",
       "      <td>0</td>\n",
       "      <td>0</td>\n",
       "      <td>0</td>\n",
       "      <td>0</td>\n",
       "      <td>0</td>\n",
       "      <td>1</td>\n",
       "      <td>0</td>\n",
       "      <td>0</td>\n",
       "    </tr>\n",
       "    <tr>\n",
       "      <th>3</th>\n",
       "      <td>44</td>\n",
       "      <td>11.984952</td>\n",
       "      <td>10</td>\n",
       "      <td>7688</td>\n",
       "      <td>0</td>\n",
       "      <td>40</td>\n",
       "      <td>0</td>\n",
       "      <td>0</td>\n",
       "      <td>0</td>\n",
       "      <td>1</td>\n",
       "      <td>...</td>\n",
       "      <td>0</td>\n",
       "      <td>0</td>\n",
       "      <td>0</td>\n",
       "      <td>0</td>\n",
       "      <td>0</td>\n",
       "      <td>0</td>\n",
       "      <td>0</td>\n",
       "      <td>1</td>\n",
       "      <td>0</td>\n",
       "      <td>0</td>\n",
       "    </tr>\n",
       "    <tr>\n",
       "      <th>4</th>\n",
       "      <td>18</td>\n",
       "      <td>11.547308</td>\n",
       "      <td>10</td>\n",
       "      <td>0</td>\n",
       "      <td>0</td>\n",
       "      <td>30</td>\n",
       "      <td>0</td>\n",
       "      <td>0</td>\n",
       "      <td>1</td>\n",
       "      <td>0</td>\n",
       "      <td>...</td>\n",
       "      <td>0</td>\n",
       "      <td>0</td>\n",
       "      <td>0</td>\n",
       "      <td>0</td>\n",
       "      <td>0</td>\n",
       "      <td>0</td>\n",
       "      <td>0</td>\n",
       "      <td>1</td>\n",
       "      <td>0</td>\n",
       "      <td>0</td>\n",
       "    </tr>\n",
       "  </tbody>\n",
       "</table>\n",
       "<p>5 rows × 93 columns</p>\n",
       "</div>"
      ],
      "text/plain": [
       "   age     fnlwgt  educational-num  capital-gain  capital-loss  \\\n",
       "0   25  12.331837                7             0             0   \n",
       "1   38  11.405507                9             0             0   \n",
       "2   28  12.727696               12             0             0   \n",
       "3   44  11.984952               10          7688             0   \n",
       "4   18  11.547308               10             0             0   \n",
       "\n",
       "   hours-per-week  workclass:Local-gov  workclass:Never-worked  \\\n",
       "0              40                    0                       0   \n",
       "1              50                    0                       0   \n",
       "2              40                    1                       0   \n",
       "3              40                    0                       0   \n",
       "4              30                    0                       0   \n",
       "\n",
       "   workclass:Other  workclass:Private  ...  native-country:Portugal  \\\n",
       "0                0                  1  ...                        0   \n",
       "1                0                  1  ...                        0   \n",
       "2                0                  0  ...                        0   \n",
       "3                0                  1  ...                        0   \n",
       "4                1                  0  ...                        0   \n",
       "\n",
       "   native-country:Puerto-Rico  native-country:Scotland  native-country:South  \\\n",
       "0                           0                        0                     0   \n",
       "1                           0                        0                     0   \n",
       "2                           0                        0                     0   \n",
       "3                           0                        0                     0   \n",
       "4                           0                        0                     0   \n",
       "\n",
       "   native-country:Taiwan  native-country:Thailand  \\\n",
       "0                      0                        0   \n",
       "1                      0                        0   \n",
       "2                      0                        0   \n",
       "3                      0                        0   \n",
       "4                      0                        0   \n",
       "\n",
       "   native-country:Trinadad&Tobago  native-country:United-States  \\\n",
       "0                               0                             1   \n",
       "1                               0                             1   \n",
       "2                               0                             1   \n",
       "3                               0                             1   \n",
       "4                               0                             1   \n",
       "\n",
       "   native-country:Vietnam  native-country:Yugoslavia  \n",
       "0                       0                          0  \n",
       "1                       0                          0  \n",
       "2                       0                          0  \n",
       "3                       0                          0  \n",
       "4                       0                          0  \n",
       "\n",
       "[5 rows x 93 columns]"
      ]
     },
     "execution_count": 49,
     "metadata": {},
     "output_type": "execute_result"
    }
   ],
   "source": [
    "X.head()"
   ]
  },
  {
   "cell_type": "code",
   "execution_count": 50,
   "metadata": {},
   "outputs": [
    {
     "data": {
      "text/plain": [
       "0    37155\n",
       "1    11687\n",
       "Name: income, dtype: int64"
      ]
     },
     "execution_count": 50,
     "metadata": {},
     "output_type": "execute_result"
    }
   ],
   "source": [
    "y.value_counts()"
   ]
  },
  {
   "cell_type": "code",
   "execution_count": 51,
   "metadata": {},
   "outputs": [],
   "source": [
    "from sklearn.ensemble import RandomForestClassifier\n",
    "from sklearn.model_selection import train_test_split\n",
    "from sklearn.metrics import accuracy_score , plot_confusion_matrix"
   ]
  },
  {
   "cell_type": "code",
   "execution_count": 52,
   "metadata": {},
   "outputs": [],
   "source": [
    "classifier = RandomForestClassifier()"
   ]
  },
  {
   "cell_type": "code",
   "execution_count": 53,
   "metadata": {},
   "outputs": [],
   "source": [
    "X_train, X_test, y_train, y_test = train_test_split(X, y, test_size=0.25)"
   ]
  },
  {
   "cell_type": "code",
   "execution_count": 54,
   "metadata": {},
   "outputs": [
    {
     "data": {
      "text/plain": [
       "RandomForestClassifier()"
      ]
     },
     "execution_count": 54,
     "metadata": {},
     "output_type": "execute_result"
    }
   ],
   "source": [
    "classifier.fit(X_train , y_train)"
   ]
  },
  {
   "cell_type": "code",
   "execution_count": 55,
   "metadata": {},
   "outputs": [],
   "source": [
    "preds = classifier.predict(X_test)"
   ]
  },
  {
   "cell_type": "code",
   "execution_count": 56,
   "metadata": {},
   "outputs": [
    {
     "data": {
      "text/plain": [
       "0.8534927524363279"
      ]
     },
     "execution_count": 56,
     "metadata": {},
     "output_type": "execute_result"
    }
   ],
   "source": [
    "accuracy_score(y_test , preds)"
   ]
  },
  {
   "cell_type": "code",
   "execution_count": 57,
   "metadata": {},
   "outputs": [
    {
     "data": {
      "text/plain": [
       "<sklearn.metrics._plot.confusion_matrix.ConfusionMatrixDisplay at 0x1c078221fd0>"
      ]
     },
     "execution_count": 57,
     "metadata": {},
     "output_type": "execute_result"
    },
    {
     "data": {
      "image/png": "[encoded data removed]",
      "text/plain": [
       "<Figure size 432x288 with 2 Axes>"
      ]
     },
     "metadata": {
      "needs_background": "light"
     },
     "output_type": "display_data"
    }
   ],
   "source": [
    "plot_confusion_matrix(classifier,X_test ,y_test)"
   ]
  },
  {
   "cell_type": "code",
   "execution_count": null,
   "metadata": {},
   "outputs": [],
   "source": []
  },
  {
   "cell_type": "code",
   "execution_count": null,
   "metadata": {},
   "outputs": [],
   "source": []
  },
  {
   "cell_type": "code",
   "execution_count": null,
   "metadata": {},
   "outputs": [],
   "source": []
  },
  {
   "cell_type": "code",
   "execution_count": null,
   "metadata": {},
   "outputs": [],
   "source": []
  }
 ],
 "metadata": {
  "kernelspec": {
   "display_name": "Python 3",
   "language": "python",
   "name": "python3"
  },
  "language_info": {
   "codemirror_mode": {
    "name": "ipython",
    "version": 3
   },
   "file_extension": ".py",
   "mimetype": "text/x-python",
   "name": "python",
   "nbconvert_exporter": "python",
   "pygments_lexer": "ipython3",
   "version": "3.6.12"
  }
 },
 "nbformat": 4,
 "nbformat_minor": 4
}
